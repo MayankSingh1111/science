{
 "cells": [
  {
   "cell_type": "code",
   "execution_count": 2,
   "id": "6f1f2545-9746-4d45-8a1b-8673f19f4368",
   "metadata": {},
   "outputs": [],
   "source": [
    "# Normalization: xnew = [xi-min(x)]/[max(x)-min(x)]"
   ]
  },
  {
   "cell_type": "code",
   "execution_count": 4,
   "id": "09ae1427-13c6-4aee-87bc-f978c1054681",
   "metadata": {},
   "outputs": [],
   "source": [
    "import pandas as pd\n",
    "import seaborn as sns\n",
    "import matplotlib.pyplot as plt"
   ]
  },
  {
   "cell_type": "code",
   "execution_count": null,
   "id": "10254695-54e2-41e1-936b-391f88fea478",
   "metadata": {},
   "outputs": [],
   "source": [
    "dataset = pd.read_csv()\n",
    "dataset."
   ]
  }
 ],
 "metadata": {
  "kernelspec": {
   "display_name": "Python 3 (ipykernel)",
   "language": "python",
   "name": "python3"
  },
  "language_info": {
   "codemirror_mode": {
    "name": "ipython",
    "version": 3
   },
   "file_extension": ".py",
   "mimetype": "text/x-python",
   "name": "python",
   "nbconvert_exporter": "python",
   "pygments_lexer": "ipython3",
   "version": "3.13.5"
  }
 },
 "nbformat": 4,
 "nbformat_minor": 5
}
